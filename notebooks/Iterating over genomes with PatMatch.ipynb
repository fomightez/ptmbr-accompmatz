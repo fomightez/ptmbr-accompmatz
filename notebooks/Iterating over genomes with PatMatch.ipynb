{
 "cells": [
  {
   "cell_type": "markdown",
   "metadata": {},
   "source": [
    "# Advanced: Iterating over genomes with PatMatch\n",
    "\n",
    "The [previous notebook, 'Advanced: Sending PatMatch output directly to Python'](Sending%20PatMatch%20output%20directly%20to%20Python.ipynb), \n",
    "covered leveraging the the Jupyter environment to skip over needing to save a file to actually pass results from shell scripts into Python. This notebook will demonstrate using one of those approaches to iterate over several genomes.   \n",
    "This builds on other aspects seen in the early notebooks too.\n",
    "\n",
    "## Preparing\n",
    "\n",
    "Similar to the previous notebook, in order to insure everything is all set, act as if this is a new session in this Jupyter environment, and run the next cell so that you can start stepping through the preparation steps by first getting a sequence file. Plus, you'll get the files for scripts to convert it to dataframe and plot sites across a chromosome and import the main functions of those scripts. \n",
    "\n",
    "Repeating these steps if you had already done so this session will cause no harm, and so go ahead and run this cell."
   ]
  },
  {
   "cell_type": "code",
   "execution_count": 1,
   "metadata": {},
   "outputs": [
    {
     "name": "stdout",
     "output_type": "stream",
     "text": [
      "  % Total    % Received % Xferd  Average Speed   Time    Time     Time  Current\n",
      "                                 Dload  Upload   Total   Spent    Left  Speed\n",
      "100 87344  100 87344    0     0   281k      0 --:--:-- --:--:-- --:--:--  281k\n",
      "  % Total    % Received % Xferd  Average Speed   Time    Time     Time  Current\n",
      "                                 Dload  Upload   Total   Spent    Left  Speed\n",
      "100 18722  100 18722    0     0  85488      0 --:--:-- --:--:-- --:--:-- 85488\n",
      "  % Total    % Received % Xferd  Average Speed   Time    Time     Time  Current\n",
      "                                 Dload  Upload   Total   Spent    Left  Speed\n",
      "100 25293  100 25293    0     0   117k      0 --:--:-- --:--:-- --:--:--  117k\n"
     ]
    }
   ],
   "source": [
    "!curl -O https://downloads.yeastgenome.org/sequence/S288C_reference/chromosomes/fasta/chrmt.fsa\n",
    "!curl -O https://raw.githubusercontent.com/fomightez/sequencework/master/patmatch-utilities/patmatch_results_to_df.py\n",
    "from patmatch_results_to_df import patmatch_results_to_df\n",
    "!curl -O https://raw.githubusercontent.com/fomightez/sequencework/master/plot_sites/plot_sites_position_across_chromosome.py\n",
    "from plot_sites_position_across_chromosome import plot_sites_position_across_chromosome "
   ]
  },
  {
   "cell_type": "markdown",
   "metadata": {},
   "source": [
    "Additionally, the sequences of two other mitochondrial genomes will be retrieved.\n",
    "\n",
    "Reference for the additional sequence data:  \n",
    "- [Contrasting evolutionary genome dynamics between domesticated and wild yeasts.\n",
    "Yue JX, Li J, Aigrain L, Hallin J, Persson K, Oliver K, Bergström A, Coupland P, Warringer J, Lagomarsino MC, Fischer G, Durbin R, Liti G. Nat Genet. 2017 Jun;49(6):913-924. doi: 10.1038/ng.3847. Epub 2017 Apr 17. PMID: 28416820](https://www.ncbi.nlm.nih.gov/pubmed/28416820)"
   ]
  },
  {
   "cell_type": "code",
   "execution_count": 2,
   "metadata": {},
   "outputs": [
    {
     "name": "stdout",
     "output_type": "stream",
     "text": [
      "  % Total    % Received % Xferd  Average Speed   Time    Time     Time  Current\n",
      "                                 Dload  Upload   Total   Spent    Left  Speed\n",
      "100   178  100   178    0     0   2144      0 --:--:-- --:--:-- --:--:--  2170\n",
      "100 18399  100 18399    0     0  95331      0 --:--:-- --:--:-- --:--:-- 95331\n",
      "  % Total    % Received % Xferd  Average Speed   Time    Time     Time  Current\n",
      "                                 Dload  Upload   Total   Spent    Left  Speed\n",
      "100   178  100   178    0     0   6137      0 --:--:-- --:--:-- --:--:--  6357\n",
      "100 18886  100 18886    0     0   137k      0 --:--:-- --:--:-- --:--:--  137k\n"
     ]
    }
   ],
   "source": [
    "# Prepare for getting PacBio (Yue et al 2017 sequences)\n",
    "#make a list of the strain designations\n",
    "yue_et_al_strains = [\"N44\",\"UFRJ50816\"]\n",
    "# Get & unpack the genome sequences from strains \n",
    "import os\n",
    "genomes = []\n",
    "expected_resulting_file = \"N44_mito.genome.fsa\"\n",
    "if not os.path.isfile(expected_resulting_file):\n",
    "    for s in yue_et_al_strains:\n",
    "        !curl -OL http://yjx1217.github.io/Yeast_PacBio_2016/data/Mitochondrial_Genome/{s}.mt.genome.fa.gz\n",
    "        !gunzip -f {s}.mt.genome.fa.gz\n",
    "        # rename the files to follow the convention used for SGD reference\n",
    "        !mv {s}.mt.genome.fa {s}_mito.genome.fsa\n",
    "        genomes.append(s+\"_mito.genome.fsa\")"
   ]
  },
  {
   "cell_type": "markdown",
   "metadata": {},
   "source": [
    "Add identifiers to each description line so results for each strain clear later. The reference from the Saccharomyces Genome database will be tagged 'SGD_REFmito'."
   ]
  },
  {
   "cell_type": "code",
   "execution_count": 3,
   "metadata": {},
   "outputs": [],
   "source": [
    "%%capture\n",
    "import sys\n",
    "import os\n",
    "# add identifiers to each description line so results for each strain clear later\n",
    "def add_strain_id_to_description_line(file,strain_id):\n",
    "    '''\n",
    "    Takes a file and edits every description line to add \n",
    "    strain_id after the caret.\n",
    "    \n",
    "    Saves the fixed file\n",
    "    '''\n",
    "    import sys\n",
    "    output_file_name = \"temp.txt\"\n",
    "    # prepare output file for saving so it will be open and ready\n",
    "    with open(output_file_name, 'w') as output_file:\n",
    "\n",
    "        # read in the input file\n",
    "        with open(file, 'r') as input_handler:\n",
    "            # prepare to give feeback later or allow skipping to certain start\n",
    "            lines_processed = 0\n",
    "\n",
    "            for line in input_handler:\n",
    "                lines_processed += 1\n",
    "                if line.startswith(\">\"):\n",
    "                    rest_o_line = line.split(\">\")\n",
    "                    new_line = \">\"+strain_id +\"\\n\"\n",
    "                else:\n",
    "                    new_line = line\n",
    "                \n",
    "                # Send text to output\n",
    "                output_file.write(new_line)\n",
    "\n",
    "    \n",
    "    # replace the original file with edited\n",
    "    !mv temp.txt {file}\n",
    "    # Feedback\n",
    "    sys.stderr.write(\"\\n{} has had identifiers added.\".format(file))\n",
    "\n",
    "files_tagged = 0\n",
    "for g in genomes:\n",
    "    add_strain_id_to_description_line(g, g.split('.genome.fsa')[0])\n",
    "    files_tagged += 1\n",
    "# Feedback\n",
    "sys.stderr.write(\"\\n{} sets of strain identifiers added.\".format(files_tagged))\n",
    "# Edit the description line for the SGD reference to be clear\n",
    "!sed -i '1s/.*/>SGD_REF_mito/' chrmt.fsa"
   ]
  },
  {
   "cell_type": "markdown",
   "metadata": {},
   "source": [
    "Make a list of the genomes based on the name."
   ]
  },
  {
   "cell_type": "code",
   "execution_count": 4,
   "metadata": {},
   "outputs": [
    {
     "data": {
      "text/plain": [
       "['UFRJ50816_mito.genome.fsa', 'chrmt.fsa', 'N44_mito.genome.fsa']"
      ]
     },
     "execution_count": 4,
     "metadata": {},
     "output_type": "execute_result"
    }
   ],
   "source": [
    "fn_pat_to_check = \".fsa\"\n",
    "genomes = []\n",
    "import os\n",
    "import fnmatch\n",
    "for file in os.listdir('.'):\n",
    "    if fnmatch.fnmatch(file, '*'+fn_pat_to_check):\n",
    "        genomes.append(file)\n",
    "genomes"
   ]
  },
  {
   "cell_type": "markdown",
   "metadata": {},
   "source": [
    "## Iteraring over the genomes with PatMatch searching for sequence patterns"
   ]
  },
  {
   "cell_type": "code",
   "execution_count": 5,
   "metadata": {},
   "outputs": [],
   "source": [
    "%%capture\n",
    "import pandas as pd\n",
    "promoter_pattern = \"DDWDWTAWAAGTARTADDDD\"\n",
    "dfs = []\n",
    "for seq_file in genomes:\n",
    "    !perl ../patmatch_1.2/unjustify_fasta.pl {seq_file}\n",
    "    output = !perl ../patmatch_1.2/patmatch.pl -c {promoter_pattern} {seq_file+\".prepared\"}\n",
    "    !rm {seq_file+\".prepared\"}\n",
    "    df_pat = patmatch_results_to_df(output.n, pattern=promoter_pattern, name=\"promoter\")\n",
    "    typical_file_suffix = \"_mito.genome.fsa\"\n",
    "    if typical_file_suffix in seq_file:\n",
    "        strain_info = seq_file.split(typical_file_suffix)[0]\n",
    "    else:\n",
    "        strain_info = \"SGD_REF\"\n",
    "    df_pat[\"strain\"] = strain_info\n",
    "    cols = df_pat.columns.tolist()\n",
    "    n = int(cols.index('strain'))\n",
    "    cols = [cols[n]] + cols[:n] + cols[n+1:]\n",
    "    df_pat = df_pat[cols]\n",
    "    dfs.append(df_pat)\n",
    "df = pd.concat(dfs)"
   ]
  },
  {
   "cell_type": "markdown",
   "metadata": {},
   "source": [
    "Because `%%capture` is used in the above cell to stop the output from accumulating to a large size when many genomes are analyzed, the results are checked in the cells following."
   ]
  },
  {
   "cell_type": "code",
   "execution_count": 6,
   "metadata": {},
   "outputs": [
    {
     "data": {
      "text/plain": [
       "49"
      ]
     },
     "execution_count": 6,
     "metadata": {},
     "output_type": "execute_result"
    }
   ],
   "source": [
    "len(df)"
   ]
  },
  {
   "cell_type": "code",
   "execution_count": 7,
   "metadata": {},
   "outputs": [
    {
     "name": "stdout",
     "output_type": "stream",
     "text": [
      "18\n",
      "14\n",
      "17\n"
     ]
    }
   ],
   "source": [
    "for dataf in dfs:\n",
    "    print(len(dataf))"
   ]
  },
  {
   "cell_type": "markdown",
   "metadata": {},
   "source": [
    "A more informative way to look at the number of hits per strain."
   ]
  },
  {
   "cell_type": "code",
   "execution_count": 8,
   "metadata": {},
   "outputs": [
    {
     "data": {
      "text/html": [
       "<div>\n",
       "<style scoped>\n",
       "    .dataframe tbody tr th:only-of-type {\n",
       "        vertical-align: middle;\n",
       "    }\n",
       "\n",
       "    .dataframe tbody tr th {\n",
       "        vertical-align: top;\n",
       "    }\n",
       "\n",
       "    .dataframe thead th {\n",
       "        text-align: right;\n",
       "    }\n",
       "</style>\n",
       "<table border=\"1\" class=\"dataframe\">\n",
       "  <thead>\n",
       "    <tr style=\"text-align: right;\">\n",
       "      <th></th>\n",
       "      <th>strain</th>\n",
       "      <th>FASTA_id</th>\n",
       "      <th>hit_number</th>\n",
       "      <th>hit_id</th>\n",
       "      <th>start</th>\n",
       "      <th>end</th>\n",
       "      <th>strand</th>\n",
       "      <th>matching pattern</th>\n",
       "      <th>query pattern</th>\n",
       "    </tr>\n",
       "  </thead>\n",
       "  <tbody>\n",
       "    <tr>\n",
       "      <th>0</th>\n",
       "      <td>UFRJ50816</td>\n",
       "      <td>UFRJ50816_mito</td>\n",
       "      <td>18</td>\n",
       "      <td>promoter-18</td>\n",
       "      <td>68451</td>\n",
       "      <td>68470</td>\n",
       "      <td>1</td>\n",
       "      <td>ATTGTTATAAGTAATAGATA</td>\n",
       "      <td>DDWDWTAWAAGTARTADDDD</td>\n",
       "    </tr>\n",
       "    <tr>\n",
       "      <th>1</th>\n",
       "      <td>N44</td>\n",
       "      <td>N44_mito</td>\n",
       "      <td>17</td>\n",
       "      <td>promoter-17</td>\n",
       "      <td>60038</td>\n",
       "      <td>60057</td>\n",
       "      <td>1</td>\n",
       "      <td>ATTGATATAAGTAGTAGATA</td>\n",
       "      <td>DDWDWTAWAAGTARTADDDD</td>\n",
       "    </tr>\n",
       "    <tr>\n",
       "      <th>2</th>\n",
       "      <td>SGD_REF</td>\n",
       "      <td>SGD_REF_mito</td>\n",
       "      <td>14</td>\n",
       "      <td>promoter-14</td>\n",
       "      <td>84996</td>\n",
       "      <td>85015</td>\n",
       "      <td>1</td>\n",
       "      <td>GATTTTATAAGTAATATAAT</td>\n",
       "      <td>DDWDWTAWAAGTARTADDDD</td>\n",
       "    </tr>\n",
       "  </tbody>\n",
       "</table>\n",
       "</div>"
      ],
      "text/plain": [
       "      strain        FASTA_id  hit_number       hit_id  start    end  strand  \\\n",
       "0  UFRJ50816  UFRJ50816_mito          18  promoter-18  68451  68470       1   \n",
       "1        N44        N44_mito          17  promoter-17  60038  60057       1   \n",
       "2    SGD_REF    SGD_REF_mito          14  promoter-14  84996  85015       1   \n",
       "\n",
       "       matching pattern         query pattern  \n",
       "0  ATTGTTATAAGTAATAGATA  DDWDWTAWAAGTARTADDDD  \n",
       "1  ATTGATATAAGTAGTAGATA  DDWDWTAWAAGTARTADDDD  \n",
       "2  GATTTTATAAGTAATATAAT  DDWDWTAWAAGTARTADDDD  "
      ]
     },
     "execution_count": 8,
     "metadata": {},
     "output_type": "execute_result"
    }
   ],
   "source": [
    "df.sort_values('hit_number', ascending=False, inplace=True)\n",
    "largest_hit_num_by_id_df = df.groupby('FASTA_id').head(1)\n",
    "largest_hit_num_by_id_df = largest_hit_num_by_id_df.groupby('strain').head(1).reset_index(drop=True)\n",
    "largest_hit_num_by_id_df"
   ]
  },
  {
   "cell_type": "markdown",
   "metadata": {},
   "source": [
    "Visualize each genomes positions with x-axis matching particular genome:  \n",
    "(Have to do each in separate cell or keeps overlaying past points the current way the plot script works.)"
   ]
  },
  {
   "cell_type": "code",
   "execution_count": 9,
   "metadata": {},
   "outputs": [
    {
     "name": "stdout",
     "output_type": "stream",
     "text": [
      "UFRJ50816_mito Plot:\n"
     ]
    },
    {
     "name": "stderr",
     "output_type": "stream",
     "text": [
      "Provided data read...\n",
      "Arranging data for plotting...\n",
      "Plot generated."
     ]
    },
    {
     "data": {
      "image/png": "[encoded data removed]",
      "text/plain": [
       "<Figure size 432x288 with 1 Axes>"
      ]
     },
     "metadata": {
      "needs_background": "light"
     },
     "output_type": "display_data"
    }
   ],
   "source": [
    "dataf = dfs[0]\n",
    "dataf = dataf.rename(columns={'hit_id':'sys_gene_id'})\n",
    "plot_sites_position_across_chromosome(dataf);\n",
    "print (dataf.FASTA_id[0] + \" Plot:\");"
   ]
  },
  {
   "cell_type": "code",
   "execution_count": 10,
   "metadata": {},
   "outputs": [
    {
     "name": "stderr",
     "output_type": "stream",
     "text": [
      "Provided data read...\n",
      "Arranging data for plotting...\n",
      "Plot generated."
     ]
    },
    {
     "name": "stdout",
     "output_type": "stream",
     "text": [
      "SGD_REF_mito Plot:\n"
     ]
    },
    {
     "data": {
      "image/png": "[encoded data removed]",
      "text/plain": [
       "<Figure size 432x288 with 1 Axes>"
      ]
     },
     "metadata": {
      "needs_background": "light"
     },
     "output_type": "display_data"
    }
   ],
   "source": [
    "dataf = dfs[1]\n",
    "dataf = dataf.rename(columns={'hit_id':'sys_gene_id'})\n",
    "plot_sites_position_across_chromosome(dataf);\n",
    "print (dataf.FASTA_id[0] + \" Plot:\");"
   ]
  },
  {
   "cell_type": "code",
   "execution_count": 11,
   "metadata": {},
   "outputs": [
    {
     "name": "stderr",
     "output_type": "stream",
     "text": [
      "Provided data read...\n",
      "Arranging data for plotting...\n",
      "Plot generated."
     ]
    },
    {
     "name": "stdout",
     "output_type": "stream",
     "text": [
      "N44_mito Plot:\n"
     ]
    },
    {
     "data": {
      "image/png": "[encoded data removed]",
      "text/plain": [
       "<Figure size 432x288 with 1 Axes>"
      ]
     },
     "metadata": {
      "needs_background": "light"
     },
     "output_type": "display_data"
    }
   ],
   "source": [
    "dataf = dfs[2]\n",
    "dataf = dataf.rename(columns={'hit_id':'sys_gene_id'})\n",
    "plot_sites_position_across_chromosome(dataf);\n",
    "print (dataf.FASTA_id[0] + \" Plot:\");"
   ]
  },
  {
   "cell_type": "markdown",
   "metadata": {},
   "source": [
    "Note the different x-axis spanned in each of the three plots.\n",
    "\n",
    "----- \n",
    "\n",
    "Enjoy!"
   ]
  }
 ],
 "metadata": {
  "kernelspec": {
   "display_name": "Python 3",
   "language": "python",
   "name": "python3"
  },
  "language_info": {
   "codemirror_mode": {
    "name": "ipython",
    "version": 3
   },
   "file_extension": ".py",
   "mimetype": "text/x-python",
   "name": "python",
   "nbconvert_exporter": "python",
   "pygments_lexer": "ipython3",
   "version": "3.7.3"
  }
 },
 "nbformat": 4,
 "nbformat_minor": 2
}
