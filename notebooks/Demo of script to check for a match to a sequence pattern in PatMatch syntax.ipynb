{
 "cells": [
  {
   "cell_type": "markdown",
   "metadata": {},
   "source": [
    "# Demo of script to check for a match to a sequence pattern in PatMatch syntax\n",
    "\n",
    "This notebook is to demonstrate `matches_a_patmatch_pattern.py`.  \n",
    "The script takes a pattern in [PatMatch syntax](https://www.yeastgenome.org/nph-patmatch#examples) and a sequence (either a FASTA sequence file or text string) and reports if there is a match present. With the `match_over_entirety` option, it reports if the squence represents a specific example of the generalized pattern. For example, is the sequence `ATTGATATAAGTAATAGATA` a specific example matching the pattern `DDWDWTAWAAGTARTADDDD`?\n",
    "\n",
    "\n",
    "\n",
    "This notebook is meant to present snippets that could be adapted and placed in an actual series of steps to get something done.\n",
    "\n",
    "If you are viewing this statically and want instead to run it actively. Go [here](https://github.com/fomightez/patmatch-binder), press the `launch binder` badge, and then when the session spins up, select `Demo of script to check for a match to a sequence pattern in PatMatch syntax` from the bottom section 'Additional topics: Technical' of the list. Then you'll be able to actively run this notebook without needing to install anything. The demostration parts below are written as if you are in an active session.\n",
    "\n",
    "------\n",
    "\n",
    "<div class=\"alert alert-block alert-warning\">\n",
    "<p>If you haven't used one of these notebooks before, they're basically web pages in which you can write, edit, and run live code. They're meant to encourage experimentation, so don't feel nervous. Just try running a few cells and see what happens!.</p>\n",
    "\n",
    "<p>\n",
    "    Some tips:\n",
    "    <ul>\n",
    "        <li>Code cells have boxes around them. When you hover over them a <i class=\"fa-step-forward fa\"></i> icon appears.</li>\n",
    "        <li>To run a code cell either click the <i class=\"fa-step-forward fa\"></i> icon, or click on the cell and then hit <b>Shift+Enter</b>. The <b>Shift+Enter</b> combo will also move you to the next cell, so it's a quick way to work through the notebook.</li>\n",
    "        <li>While a cell is running a <b>*</b> appears in the square brackets next to the cell. Once the cell has finished running the asterisk will be replaced with a number.</li>\n",
    "        <li>In most cases you'll want to start from the top of notebook and work your way down running each cell in turn. Later cells might depend on the results of earlier ones.</li>\n",
    "        <li>To edit a code cell, just click on it and type stuff. Remember to run the cell once you've finished editing.</li>\n",
    "    </ul>\n",
    "</p>\n",
    "</div>\n",
    "\n",
    "----"
   ]
  },
  {
   "cell_type": "markdown",
   "metadata": {},
   "source": [
    "##  Preparation\n",
    "\n",
    "Get the script for the demonstration"
   ]
  },
  {
   "cell_type": "code",
   "execution_count": 1,
   "metadata": {},
   "outputs": [
    {
     "name": "stdout",
     "output_type": "stream",
     "text": [
      "  % Total    % Received % Xferd  Average Speed   Time    Time     Time  Current\n",
      "                                 Dload  Upload   Total   Spent    Left  Speed\n",
      "100    15  100    15    0     0     85      0 --:--:-- --:--:-- --:--:--    85\n"
     ]
    }
   ],
   "source": [
    "# Get the script\n",
    "!curl -O https://raw.githubusercontent.com/fomightez/sequencework/master/patmatch-utilities/matches_a_patmatch_pattern.py"
   ]
  },
  {
   "cell_type": "markdown",
   "metadata": {},
   "source": [
    "#### Display USAGE block"
   ]
  },
  {
   "cell_type": "code",
   "execution_count": 2,
   "metadata": {},
   "outputs": [
    {
     "name": "stdout",
     "output_type": "stream",
     "text": [
      "usage: matches_a_patmatch_pattern.py [-h] (-n | -p) [-moe] PATTERN SEQUENCE\n",
      "\n",
      "matches_a_patmatch_pattern.py Takes a sequence pattern in PatMatch syntax, and\n",
      "checks if a provided sequence contains a match. It reports True or False\n",
      "depending on that assessment. Optionally, it can be restricted to checking if\n",
      "the provided sequence is a match to a sequence pattern. **** Script by Wayne\n",
      "Decatur (fomightez @ github) ***\n",
      "\n",
      "positional arguments:\n",
      "  PATTERN               Sequence pattern in PatMatch syntax. For example, to\n",
      "                        search for a S. cerevisiae mitochondrial promoter,\n",
      "                        provide `DDWDWTAWAAGTARTADDDD`, without any quotes or\n",
      "                        backticks, in the call to the script.\n",
      "  SEQUENCE              Filename for FASTA sequence file or text of sequence\n",
      "                        string to examine for presence of the pattern. **Only\n",
      "                        the first sequence of a multi-entry FASTA file is\n",
      "                        considered.**\n",
      "\n",
      "optional arguments:\n",
      "  -h, --help            show this help message and exit\n",
      "  -n, --nucleic         Specify the residue type as nucleic. MUST SPECIFY A\n",
      "                        RESIDUE TYPE.\n",
      "  -p, --protein         Specify the residue type as protein. MUST SPECIFY A\n",
      "                        RESIDUE TYPE.\n",
      "  -moe, --match_over_entirety\n",
      "                        add this flag to force the match test to have the\n",
      "                        sequence have to match over an entirety to the\n",
      "                        pattern. In other words, force testing if the\n",
      "                        sequences is a specific example of the pattern.\n"
     ]
    }
   ],
   "source": [
    "!python matches_a_patmatch_pattern.py -h"
   ]
  },
  {
   "cell_type": "markdown",
   "metadata": {},
   "source": [
    "This code uses some packages that might not be already installed and so the next line insures they are added here."
   ]
  },
  {
   "cell_type": "code",
   "execution_count": 3,
   "metadata": {},
   "outputs": [
    {
     "name": "stdout",
     "output_type": "stream",
     "text": [
      "Requirement already satisfied: sh in /srv/conda/envs/notebook/lib/python3.7/site-packages (1.12.14)\n",
      "Note: you may need to restart the kernel to use updated packages.\n",
      "Requirement already satisfied: pyfaidx in /srv/conda/envs/notebook/lib/python3.7/site-packages (0.5.5.2)\n",
      "Requirement already satisfied: six in /srv/conda/envs/notebook/lib/python3.7/site-packages (from pyfaidx) (1.12.0)\n",
      "Requirement already satisfied: setuptools>=0.7 in /srv/conda/envs/notebook/lib/python3.7/site-packages (from pyfaidx) (41.0.1)\n",
      "Note: you may need to restart the kernel to use updated packages.\n"
     ]
    }
   ],
   "source": [
    "%pip install sh\n",
    "%pip install pyfaidx"
   ]
  },
  {
   "cell_type": "markdown",
   "metadata": {},
   "source": [
    "In this case, no more preparation is needed as we'll use either sequences defined in the cell or in the PatMatch test folder."
   ]
  },
  {
   "cell_type": "markdown",
   "metadata": {},
   "source": [
    "##  Basics\n",
    "\n",
    "This section is meant to prepare to show the basics of using it on the command line.  \n",
    "(On the 'proper' command line you wouldn't need the exclamation points I put in front of these commands for them to work in this notebook.)"
   ]
  },
  {
   "cell_type": "code",
   "execution_count": 4,
   "metadata": {},
   "outputs": [
    {
     "name": "stderr",
     "output_type": "stream",
     "text": [
      "Checking PatMatch software present...\n"
     ]
    },
    {
     "name": "stdout",
     "output_type": "stream",
     "text": [
      "True\n"
     ]
    },
    {
     "name": "stderr",
     "output_type": "stream",
     "text": [
      "Sending the PatMatch results to Python...\n",
      "Reporting: True.\n",
      "\n"
     ]
    }
   ],
   "source": [
    "%run matches_a_patmatch_pattern.py DDWDWTAWAAGTARTADDDD AAAATTGATATAAGTAATAGATACCCC --nucleic"
   ]
  },
  {
   "cell_type": "markdown",
   "metadata": {},
   "source": [
    "Besides the sequences of the pattern and the sequence to compare it to, you need to provide whether the sequence is `--nucleic` or `--protein`."
   ]
  },
  {
   "cell_type": "markdown",
   "metadata": {},
   "source": [
    "Okay, the above sequences show a match.  \n",
    "However, what we really wanted to know was **whether the short sequence represents a specific example of the general pattern?**  \n",
    "In order to examine that, we add the `--match_over_entirety` flag, abbreviated `-moe`, and run the code."
   ]
  },
  {
   "cell_type": "code",
   "execution_count": 5,
   "metadata": {},
   "outputs": [
    {
     "name": "stdout",
     "output_type": "stream",
     "text": [
      "False\n"
     ]
    },
    {
     "name": "stderr",
     "output_type": "stream",
     "text": [
      "****Error??*** You called the script with the `match_over_entirety` option;\n",
      "however, your provided sequences are not equal in size and thus don't\n",
      "match over their entirety. Feel free to ignore this concern.\n",
      "\n"
     ]
    }
   ],
   "source": [
    "%run matches_a_patmatch_pattern.py DDWDWTAWAAGTARTADDDD AAAATTGATATAAGTAATAGATACCCC --nucleic --match_over_entirety"
   ]
  },
  {
   "cell_type": "markdown",
   "metadata": {},
   "source": [
    "Nope, even though the sequence contains a match to the pattern, the pattern and the sequence don't match over their entire length, and so the sequence isn't a specific example matching the pattern.  \n",
    "Note that you also get a note about the length not matching and so they couldn't possible match over the entire length. You can choose to ignore this if you knew this was a possibility because you weren't screening the length ahead of time.\n",
    "\n",
    "Let's try with another sequence against the pattern. This will be the only thing changed relative the last cell. \n",
    "*Is this one a specific example of the general pattern?*"
   ]
  },
  {
   "cell_type": "code",
   "execution_count": 6,
   "metadata": {},
   "outputs": [
    {
     "name": "stderr",
     "output_type": "stream",
     "text": [
      "Checking PatMatch software present...\n"
     ]
    },
    {
     "name": "stdout",
     "output_type": "stream",
     "text": [
      "True\n"
     ]
    },
    {
     "name": "stderr",
     "output_type": "stream",
     "text": [
      "Sending the PatMatch results to Python...\n",
      "Reporting: True.\n",
      "\n"
     ]
    }
   ],
   "source": [
    "%run matches_a_patmatch_pattern.py DDWDWTAWAAGTARTADDDD ATTGATATAAGTAATAGATA --nucleic --match_over_entirety"
   ]
  },
  {
   "cell_type": "markdown",
   "metadata": {},
   "source": [
    "Yes.\n",
    "\n",
    "That covers most of what this script does. Nothing fancy really.   The big thing about it is that behind-the-scenes it uses PatMatch so that I can use the same syntax for the patterns without needing to re-implement the nucleic and protein syntax PatMatch offers just to compare two sequences.\n",
    "\n",
    "The sequence can be provided as a sequence file in FASTA format. In that case, you point the script at the file py providing the full path and file name. Let's show how that is done using the test squences from PatMatch that are already in this repository."
   ]
  },
  {
   "cell_type": "code",
   "execution_count": 7,
   "metadata": {},
   "outputs": [
    {
     "name": "stderr",
     "output_type": "stream",
     "text": [
      "Checking PatMatch software present...\n"
     ]
    },
    {
     "name": "stdout",
     "output_type": "stream",
     "text": [
      "True\n"
     ]
    },
    {
     "name": "stderr",
     "output_type": "stream",
     "text": [
      "Sending the PatMatch results to Python...\n",
      "Reporting: True.\n",
      "\n"
     ]
    }
   ],
   "source": [
    "%run matches_a_patmatch_pattern.py ACAGAGCAGG ../patmatch_1.2/test/ATH1_cdna_test --nucleic"
   ]
  },
  {
   "cell_type": "markdown",
   "metadata": {},
   "source": [
    "**NOTE THAT `ATH1_cdna_test` is actually a mutli-sequence FASTA file; however, this script only deals with the first sequence in such a file of encountered.** The point is to get a 'yes' or 'no' answer for each sequence at which this script is pointed. If you need to check multiple sequences from within a multi-sequence FASTA file, you can loop over each sequence getting the 'yes' or 'no' answer as you go.  I'll illustrate a process similar that in the next section using the main function of the script.\n",
    "\n",
    "If you have used PatMatch on the command line before, you might have dealt with using the `unjustify.pl` script on a FASTA file to remove the line endings for each sequence. You don't need to do that here. It is handled behind-the-scenes as well (not using that particular Perl script, but instead via Python).\n",
    "\n"
   ]
  },
  {
   "cell_type": "markdown",
   "metadata": {},
   "source": [
    "-------"
   ]
  },
  {
   "cell_type": "markdown",
   "metadata": {},
   "source": [
    "## Use the main script in a Jupyter notebook (or IPython console)"
   ]
  },
  {
   "cell_type": "markdown",
   "metadata": {},
   "source": [
    "This is meant to demonstrate using the main function of this script in a Jupyter notebook. The same would largely hold if you were using it in an IPython console."
   ]
  },
  {
   "cell_type": "markdown",
   "metadata": {},
   "source": [
    "We need to bring the main function of the script into the memory of this notebook's environment. This next, redundant-looking line will do that."
   ]
  },
  {
   "cell_type": "code",
   "execution_count": 8,
   "metadata": {},
   "outputs": [],
   "source": [
    "from matches_a_patmatch_pattern import matches_a_patmatch_pattern"
   ]
  },
  {
   "cell_type": "markdown",
   "metadata": {},
   "source": [
    "Now the function can be used on the sameple data to make a dataframe of the difference matrix. The basics are shown here."
   ]
  },
  {
   "cell_type": "code",
   "execution_count": 9,
   "metadata": {},
   "outputs": [
    {
     "name": "stderr",
     "output_type": "stream",
     "text": [
      "Checking PatMatch software present...\n",
      "Sending the PatMatch results to Python...\n",
      "Reporting: True.\n",
      "\n"
     ]
    },
    {
     "data": {
      "text/plain": [
       "True"
      ]
     },
     "execution_count": 9,
     "metadata": {},
     "output_type": "execute_result"
    }
   ],
   "source": [
    "result1 = matches_a_patmatch_pattern(\"DDWDWTAWAAGTARTADDDD\",\"AAAATTGATATAAGTAATAGATACCCC\",\"nucleic\");\n",
    "result1"
   ]
  },
  {
   "cell_type": "markdown",
   "metadata": {},
   "source": [
    "Okay, the above sequences show a match.  \n",
    "However, what we really wanted to know was **whether the short sequence represents a specific example of the general pattern?**  \n",
    "In order to examine that, we set the `match_over_entirety` setting to `True` and run the code."
   ]
  },
  {
   "cell_type": "code",
   "execution_count": 10,
   "metadata": {},
   "outputs": [
    {
     "name": "stderr",
     "output_type": "stream",
     "text": [
      "****Error??*** You called the script with the `match_over_entirety` option;\n",
      "however, your provided sequences are not equal in size and thus don't\n",
      "match over their entirety. Feel free to ignore this concern.\n",
      "\n"
     ]
    },
    {
     "data": {
      "text/plain": [
       "False"
      ]
     },
     "execution_count": 10,
     "metadata": {},
     "output_type": "execute_result"
    }
   ],
   "source": [
    "result2 = x = matches_a_patmatch_pattern(\"DDWDWTAWAAGTARTADDDD\",\"AAAATTGATATAAGTAATAGATACCCC\",\"nucleic\",match_over_entirety=True);\n",
    "result2"
   ]
  },
  {
   "cell_type": "markdown",
   "metadata": {},
   "source": [
    "The script quickly short-circuits returning a false if the length of the two don't match.\n",
    "\n",
    "Let's try it with sequences that match in size."
   ]
  },
  {
   "cell_type": "code",
   "execution_count": 11,
   "metadata": {},
   "outputs": [
    {
     "name": "stderr",
     "output_type": "stream",
     "text": [
      "Checking PatMatch software present...\n",
      "Sending the PatMatch results to Python...\n",
      "Reporting: True.\n",
      "\n"
     ]
    }
   ],
   "source": [
    "matches_a_patmatch_pattern(\"DDWDWTAWAAGTARTADDDD\",\"ATTGATATAAGTAATAGATA\",\"nucleic\", match_over_entirety=True);"
   ]
  },
  {
   "cell_type": "markdown",
   "metadata": {},
   "source": [
    "Finally, we'll use the main function of the script to step through analysis of each sequence in the test data for PatMatch and make a dataframe of the results."
   ]
  },
  {
   "cell_type": "code",
   "execution_count": 12,
   "metadata": {},
   "outputs": [
    {
     "name": "stderr",
     "output_type": "stream",
     "text": [
      "Examining At1g01010.1 ...\n",
      "Checking PatMatch software present...\n",
      "Sending the PatMatch results to Python...\n",
      "Reporting: True.\n",
      "\n",
      "Examining At1g01020.1 ...\n",
      "Checking PatMatch software present...\n",
      "Sending the PatMatch results to Python...\n",
      "Reporting: False.\n",
      "\n",
      "Examining At1g01030.1 ...\n",
      "Checking PatMatch software present...\n",
      "Sending the PatMatch results to Python...\n",
      "Reporting: False.\n",
      "\n",
      "Examining At1g01040.1 ...\n",
      "Checking PatMatch software present...\n",
      "Sending the PatMatch results to Python...\n",
      "Reporting: True.\n",
      "\n"
     ]
    },
    {
     "data": {
      "text/html": [
       "<div>\n",
       "<style scoped>\n",
       "    .dataframe tbody tr th:only-of-type {\n",
       "        vertical-align: middle;\n",
       "    }\n",
       "\n",
       "    .dataframe tbody tr th {\n",
       "        vertical-align: top;\n",
       "    }\n",
       "\n",
       "    .dataframe thead th {\n",
       "        text-align: right;\n",
       "    }\n",
       "</style>\n",
       "<table border=\"1\" class=\"dataframe\">\n",
       "  <thead>\n",
       "    <tr style=\"text-align: right;\">\n",
       "      <th></th>\n",
       "      <th>sequence</th>\n",
       "      <th>contains_match_to_pattern</th>\n",
       "    </tr>\n",
       "  </thead>\n",
       "  <tbody>\n",
       "    <tr>\n",
       "      <th>0</th>\n",
       "      <td>At1g01010.1</td>\n",
       "      <td>True</td>\n",
       "    </tr>\n",
       "    <tr>\n",
       "      <th>1</th>\n",
       "      <td>At1g01020.1</td>\n",
       "      <td>False</td>\n",
       "    </tr>\n",
       "    <tr>\n",
       "      <th>2</th>\n",
       "      <td>At1g01030.1</td>\n",
       "      <td>False</td>\n",
       "    </tr>\n",
       "    <tr>\n",
       "      <th>3</th>\n",
       "      <td>At1g01040.1</td>\n",
       "      <td>True</td>\n",
       "    </tr>\n",
       "  </tbody>\n",
       "</table>\n",
       "</div>"
      ],
      "text/plain": [
       "      sequence  contains_match_to_pattern\n",
       "0  At1g01010.1                       True\n",
       "1  At1g01020.1                      False\n",
       "2  At1g01030.1                      False\n",
       "3  At1g01040.1                       True"
      ]
     },
     "execution_count": 12,
     "metadata": {},
     "output_type": "execute_result"
    }
   ],
   "source": [
    "from pyfaidx import Fasta\n",
    "sequence_records = Fasta(\"../patmatch_1.2/test/ATH1_cdna_test\")\n",
    "results_dict = {}\n",
    "pattern = \"AGCAGG\"\n",
    "for idx,record in enumerate(sequence_records):\n",
    "    sys.stderr.write(f\"Examining {record.name} ...\\n\")\n",
    "    match_call = matches_a_patmatch_pattern(pattern,str(record),\"nucleic\")\n",
    "    results_dict[record.name] = match_call\n",
    "# make results into a dataframe\n",
    "import pandas as pd\n",
    "df = pd.DataFrame.from_dict(\n",
    "    results_dict,orient='index').reset_index()\n",
    "df.columns = ['sequence', 'contains_match_to_pattern']\n",
    "df"
   ]
  },
  {
   "cell_type": "markdown",
   "metadata": {},
   "source": [
    "That covers the basics of using the function in a notebook. \n",
    "\n",
    "\n",
    "-----\n",
    "\n",
    "Feel free to substitute your data in here and run the script or function.\n",
    "\n",
    "Be sure to download anything you make that is useful.\n",
    "\n",
    "Enjoy!"
   ]
  }
 ],
 "metadata": {
  "kernelspec": {
   "display_name": "Python 3",
   "language": "python",
   "name": "python3"
  },
  "language_info": {
   "codemirror_mode": {
    "name": "ipython",
    "version": 3
   },
   "file_extension": ".py",
   "mimetype": "text/x-python",
   "name": "python",
   "nbconvert_exporter": "python",
   "pygments_lexer": "ipython3",
   "version": "3.7.3"
  }
 },
 "nbformat": 4,
 "nbformat_minor": 2
}
