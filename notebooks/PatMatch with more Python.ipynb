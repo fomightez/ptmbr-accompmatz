{
 "cells": [
  {
   "cell_type": "markdown",
   "metadata": {},
   "source": [
    "# PatMatch  with more Python \n",
    "\n",
    "In a [previous notebook](PatMatch%20with%20Python%20basics.ipynb), I hinted there was an easier way to take the results from PatMatch to a useable dataframe in memory than passing through the intermediate of saving the pickled dataframe. As stated then, the way I showed earlier will work almost anywhere because it can be used when you are just running inidividual scripts and not working interactively or in a Jupyter environment.\n",
    "\n",
    "However, if you are working interactively in a Jupyter notebook environment (or the Pyton/IPython interpreter console), you can pass the saved results of PatMatch directly from the created text file to Python.  In other words, we will no longer need the `df.read_pickle` step we used previously right after running the `patmatch_results_to_df.py` to work with the results in Python.\n",
    "\n",
    "Because you are likely reading this in an active Jupyter environment, you can demonstrate this route for yourself.\n",
    "\n",
    "\n",
    "\n",
    "\n",
    "## Preparing\n",
    "\n",
    "In order to insure everything is all set, act as if this is a new session in this Jupyter environment, and run the next cell so that you can step through the preparation steps to get a sequence file, prepare it, and scan it for matches to insure there is data file present. Plus, you'll get the file for script to convert it to dataframe. Repeating these steps if you had already done so this session will cause no harm, and so go ahead and run this cell.\n"
   ]
  },
  {
   "cell_type": "code",
   "execution_count": 1,
   "metadata": {},
   "outputs": [
    {
     "name": "stdout",
     "output_type": "stream",
     "text": [
      "  % Total    % Received % Xferd  Average Speed   Time    Time     Time  Current\n",
      "                                 Dload  Upload   Total   Spent    Left  Speed\n",
      "100 87344  100 87344    0     0  91173      0 --:--:-- --:--:-- --:--:-- 91173\n",
      "  % Total    % Received % Xferd  Average Speed   Time    Time     Time  Current\n",
      "                                 Dload  Upload   Total   Spent    Left  Speed\n",
      "100 18721  100 18721    0     0  60782      0 --:--:-- --:--:-- --:--:-- 60585\n"
     ]
    }
   ],
   "source": [
    "!curl -O http://sgd-archive.yeastgenome.org/sequence/S288C_reference/chromosomes/fasta/chrmt.fsa\n",
    "!perl ../patmatch_1.2/unjustify_fasta.pl chrmt.fsa\n",
    "!perl ../patmatch_1.2/patmatch.pl -c \"DDWDWTAWAAGTARTADDDD\" chrmt.fsa.prepared > test.out\n",
    "!curl -O https://raw.githubusercontent.com/fomightez/sequencework/master/patmatch-utilities/patmatch_results_to_df.py"
   ]
  },
  {
   "cell_type": "markdown",
   "metadata": {},
   "source": [
    "## Passing results data into active memory without a file intermediate\n",
    "\n",
    "Similar to the way we brough the plotting function into the active computation space linked to an [earlier notebook](PatMatch%20with%20Python%20basics.ipynb), we'll bring in the main function associated with the `patmatch_results_to_df.py` script, aptly named `patmatch_results_to_df`. (As written below the command to do that looks a bit redundant;however, the first `from` part of the command below actually is referencing the `patmatch_results_to_df.py` script, but it doesn't need the `.py` extension because the `import` only deals with such files.)"
   ]
  },
  {
   "cell_type": "code",
   "execution_count": 2,
   "metadata": {},
   "outputs": [],
   "source": [
    "from patmatch_results_to_df import patmatch_results_to_df"
   ]
  },
  {
   "cell_type": "markdown",
   "metadata": {},
   "source": [
    "Now you can call the main function, assigning the results directly to a dataframe."
   ]
  },
  {
   "cell_type": "code",
   "execution_count": 3,
   "metadata": {},
   "outputs": [
    {
     "name": "stderr",
     "output_type": "stream",
     "text": [
      "Provided results read...\n",
      "For documenting purposes, the following lists the parsed data:\n",
      "          FASTA_id  hit_number       hit_id  start    end  strand      matching pattern         query pattern\n",
      "0   ref|NC_001224|           1   promoter-1  54833  54852      -1  AGATATATAAGTAATAGGGG  DDWDWTAWAAGTARTADDDD\n",
      "1   ref|NC_001224|           2   promoter-2  78291  78310      -1  ATTTTTATAAGTAGTATATT  DDWDWTAWAAGTARTADDDD\n",
      "2   ref|NC_001224|           3   promoter-3   6458   6477       1  TATTATATAAGTAATAAATA  DDWDWTAWAAGTARTADDDD\n",
      "3   ref|NC_001224|           4   promoter-4  13345  13364       1  ATTGATATAAGTAATAGATA  DDWDWTAWAAGTARTADDDD\n",
      "4   ref|NC_001224|           5   promoter-5  32205  32224       1  AAATATATAAGTAATAAATT  DDWDWTAWAAGTARTADDDD\n",
      "5   ref|NC_001224|           6   promoter-6  34874  34893       1  TATTATATAAGTAATATATA  DDWDWTAWAAGTARTADDDD\n",
      "6   ref|NC_001224|           7   promoter-7  46067  46086       1  ATTAATATAAGTAATATATA  DDWDWTAWAAGTARTADDDD\n",
      "7   ref|NC_001224|           8   promoter-8  57996  58015       1  ATATATATAAGTAGTAAAAA  DDWDWTAWAAGTARTADDDD\n",
      "8   ref|NC_001224|           9   promoter-9  65380  65399       1  TGTTATATAAGTAATAATAT  DDWDWTAWAAGTARTADDDD\n",
      "9   ref|NC_001224|          10  promoter-10  69701  69720       1  TTTATTATAAGTAATAATAT  DDWDWTAWAAGTARTADDDD\n",
      "10  ref|NC_001224|          11  promoter-11  73692  73711       1  TTAATTAAAAGTAGTATTAA  DDWDWTAWAAGTARTADDDD\n",
      "11  ref|NC_001224|          12  promoter-12  77394  77413       1  TATATTATAAGTAATAATAA  DDWDWTAWAAGTARTADDDD\n",
      "12  ref|NC_001224|          13  promoter-13  82317  82336       1  AAATATATAAGTAATAGGGG  DDWDWTAWAAGTARTADDDD\n",
      "13  ref|NC_001224|          14  promoter-14  84996  85015       1  GATTTTATAAGTAATATAAT  DDWDWTAWAAGTARTADDDD\n",
      "\n",
      "A dataframe of the parsed data shown above has been\n",
      "saved as a file in a manner where other Python programs\n",
      "can access it (pickled form).\n",
      "RESULTING DATAFRAME is stored as ==> 'patmatch_pickled_df.pkl'\n",
      "\n",
      "Returning a dataframe with the information as well."
     ]
    }
   ],
   "source": [
    "my_pattern= \"DDWDWTAWAAGTARTADDDD\"\n",
    "df = patmatch_results_to_df(\"test.out\", pattern=my_pattern, name=\"promoter\")"
   ]
  },
  {
   "cell_type": "markdown",
   "metadata": {},
   "source": [
    "The function still saves the pickled dataframe, but you also have the dataframe as a Python object in memory now.\n",
    "\n",
    "You can demonstrate that by running the next command."
   ]
  },
  {
   "cell_type": "code",
   "execution_count": 4,
   "metadata": {},
   "outputs": [
    {
     "data": {
      "text/html": [
       "<div>\n",
       "<style scoped>\n",
       "    .dataframe tbody tr th:only-of-type {\n",
       "        vertical-align: middle;\n",
       "    }\n",
       "\n",
       "    .dataframe tbody tr th {\n",
       "        vertical-align: top;\n",
       "    }\n",
       "\n",
       "    .dataframe thead th {\n",
       "        text-align: right;\n",
       "    }\n",
       "</style>\n",
       "<table border=\"1\" class=\"dataframe\">\n",
       "  <thead>\n",
       "    <tr style=\"text-align: right;\">\n",
       "      <th></th>\n",
       "      <th>FASTA_id</th>\n",
       "      <th>hit_number</th>\n",
       "      <th>hit_id</th>\n",
       "      <th>start</th>\n",
       "      <th>end</th>\n",
       "      <th>strand</th>\n",
       "      <th>matching pattern</th>\n",
       "      <th>query pattern</th>\n",
       "    </tr>\n",
       "  </thead>\n",
       "  <tbody>\n",
       "    <tr>\n",
       "      <th>0</th>\n",
       "      <td>ref|NC_001224|</td>\n",
       "      <td>1</td>\n",
       "      <td>promoter-1</td>\n",
       "      <td>54833</td>\n",
       "      <td>54852</td>\n",
       "      <td>-1</td>\n",
       "      <td>AGATATATAAGTAATAGGGG</td>\n",
       "      <td>DDWDWTAWAAGTARTADDDD</td>\n",
       "    </tr>\n",
       "    <tr>\n",
       "      <th>1</th>\n",
       "      <td>ref|NC_001224|</td>\n",
       "      <td>2</td>\n",
       "      <td>promoter-2</td>\n",
       "      <td>78291</td>\n",
       "      <td>78310</td>\n",
       "      <td>-1</td>\n",
       "      <td>ATTTTTATAAGTAGTATATT</td>\n",
       "      <td>DDWDWTAWAAGTARTADDDD</td>\n",
       "    </tr>\n",
       "    <tr>\n",
       "      <th>2</th>\n",
       "      <td>ref|NC_001224|</td>\n",
       "      <td>3</td>\n",
       "      <td>promoter-3</td>\n",
       "      <td>6458</td>\n",
       "      <td>6477</td>\n",
       "      <td>1</td>\n",
       "      <td>TATTATATAAGTAATAAATA</td>\n",
       "      <td>DDWDWTAWAAGTARTADDDD</td>\n",
       "    </tr>\n",
       "    <tr>\n",
       "      <th>3</th>\n",
       "      <td>ref|NC_001224|</td>\n",
       "      <td>4</td>\n",
       "      <td>promoter-4</td>\n",
       "      <td>13345</td>\n",
       "      <td>13364</td>\n",
       "      <td>1</td>\n",
       "      <td>ATTGATATAAGTAATAGATA</td>\n",
       "      <td>DDWDWTAWAAGTARTADDDD</td>\n",
       "    </tr>\n",
       "    <tr>\n",
       "      <th>4</th>\n",
       "      <td>ref|NC_001224|</td>\n",
       "      <td>5</td>\n",
       "      <td>promoter-5</td>\n",
       "      <td>32205</td>\n",
       "      <td>32224</td>\n",
       "      <td>1</td>\n",
       "      <td>AAATATATAAGTAATAAATT</td>\n",
       "      <td>DDWDWTAWAAGTARTADDDD</td>\n",
       "    </tr>\n",
       "  </tbody>\n",
       "</table>\n",
       "</div>"
      ],
      "text/plain": [
       "         FASTA_id  hit_number      hit_id  start    end  strand  \\\n",
       "0  ref|NC_001224|           1  promoter-1  54833  54852      -1   \n",
       "1  ref|NC_001224|           2  promoter-2  78291  78310      -1   \n",
       "2  ref|NC_001224|           3  promoter-3   6458   6477       1   \n",
       "3  ref|NC_001224|           4  promoter-4  13345  13364       1   \n",
       "4  ref|NC_001224|           5  promoter-5  32205  32224       1   \n",
       "\n",
       "       matching pattern         query pattern  \n",
       "0  AGATATATAAGTAATAGGGG  DDWDWTAWAAGTARTADDDD  \n",
       "1  ATTTTTATAAGTAGTATATT  DDWDWTAWAAGTARTADDDD  \n",
       "2  TATTATATAAGTAATAAATA  DDWDWTAWAAGTARTADDDD  \n",
       "3  ATTGATATAAGTAATAGATA  DDWDWTAWAAGTARTADDDD  \n",
       "4  AAATATATAAGTAATAAATT  DDWDWTAWAAGTARTADDDD  "
      ]
     },
     "execution_count": 4,
     "metadata": {},
     "output_type": "execute_result"
    }
   ],
   "source": [
    "df.head()"
   ]
  },
  {
   "cell_type": "markdown",
   "metadata": {},
   "source": [
    "----\n",
    "\n",
    "## Conclusion of the intro-level notebooks.\n",
    "\n",
    "Hopefully these notebooks have given you the impression that there are a lot of advatanges to moving to such an environment. MyBinder.org, Cyvser Vice apps, and similar resources make it easier than ever before to work and document without needing to install anything on your local machines.\n",
    "\n",
    "This series of demo notebooks has only touched on the basics of workflows with command line-based PatMatch. You can easily massively scale up what can be done on a lot of sequences by combining/adapting shell scripts or Python with these building blocks. In fact, easier ways to take advantage of the Jupyter/Python environment to accomplish this are illustrated in a series of advanced notebooks.  \n",
    "Particulars:\n",
    "- [advanced notebook: Sending PatMatch output directly to Python](Sending%20PatMatch%20output%20directly%20to%20Python.ipynb) builds on the approach shown in this notebook to demonstrate how you can further take advantage of the interactive Jupyter enviroment and completely skip even the intermediate result file from PatMatch. If you are performing your computational work in a more traditional command line settting and not a Jupyter/IPython environment, it won't be much use. \n",
    "- [advanced notebook: Using brackets or other strange characters to make complex patterns on command line or with Python](Using%20brackets%20or%20other%20strange%20characters%20to%20make%20complex%20patterns%20on%20command%20line%20or%20with%20Python.ipynb) builds on the first advanced notebook to show how to use brackets or other odd characters in your search patterns.\n",
    "- [advanced notebook: Iterating over genomes with PatMatch](Iterating%20over%20genomes%20with%20PatMatch.ipynb) - builds on the notebook [Sending PatMatch output directly to Python](Sending%20PatMatch%20output%20directly%20to%20Python.ipynb) to show how to cycle through searching multiple genomes easily."
   ]
  }
 ],
 "metadata": {
  "kernelspec": {
   "display_name": "Python 3",
   "language": "python",
   "name": "python3"
  },
  "language_info": {
   "codemirror_mode": {
    "name": "ipython",
    "version": 3
   },
   "file_extension": ".py",
   "mimetype": "text/x-python",
   "name": "python",
   "nbconvert_exporter": "python",
   "pygments_lexer": "ipython3",
   "version": "3.7.3"
  }
 },
 "nbformat": 4,
 "nbformat_minor": 2
}
