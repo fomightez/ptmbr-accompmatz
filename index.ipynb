{
 "cells": [
  {
   "cell_type": "markdown",
   "metadata": {},
   "source": [
    "# PatMatch-binder\n",
    "## PatMatch stand-alone, command line-based software in your browser\n",
    "\n",
    "Welcome. Select a notebook below to get started.\n",
    "\n",
    "If in doubt, start with the one at the top and work down.\n",
    "\n",
    "## Notebooks\n",
    "\n",
    "- [PatMatch initial demo and introduction](notebooks/PatMatch%20initial%20demo%20and%20introduction.ipynb)\n",
    "- [PatMatch with Python basics](notebooks/PatMatch%20with%20Python%20basics.ipynb)\n",
    "- [PatMatch with a Genome and Protein + Python](notebooks/PatMatch%20with%20Genome%20and%20Python.ipynb)\n",
    "- [PatMatch with more Python](notebooks/PatMatch%20with%20more%20Python.ipynb)\n",
    "\n",
    "\n",
    "### Additional topics: Advanced use of PatMatch and Python\n",
    "- [Advanced: Sending PatMatch output directly to Python](notebooks/Sending%20PatMatch%20output%20directly%20to%20Python.ipynb)\n",
    "- [Advanced: Iterating over genomes with PatMatch](notebooks/Iterating%20over%20genomes%20with%20PatMatch.ipynb)\n",
    "\n",
    "----\n",
    "\n",
    "----\n",
    "\n",
    "Typcial users will not be interested in these following notebooks as they cover technical topics.\n",
    "\n",
    "### Additional topics: Technical\n",
    "- [PatMatch nucleic handling flags demystified](notebooks/PatMatch%20nucleic%20handling%20flags%20demystified.ipynb)\n",
    "- [Benchmarking on Cyverse: PatMatch use on the largest genome project to date](notebooks/PatMatch%20use%20on%20the%20largest%20genome%20project%20to%20date.ipynb)"
   ]
  }
 ],
 "metadata": {
  "kernelspec": {
   "display_name": "Python 3",
   "language": "python",
   "name": "python3"
  },
  "language_info": {
   "codemirror_mode": {
    "name": "ipython",
    "version": 3
   },
   "file_extension": ".py",
   "mimetype": "text/x-python",
   "name": "python",
   "nbconvert_exporter": "python",
   "pygments_lexer": "ipython3",
   "version": "3.7.3"
  }
 },
 "nbformat": 4,
 "nbformat_minor": 2
}
